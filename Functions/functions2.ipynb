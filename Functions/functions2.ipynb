{
 "cells": [
  {
   "cell_type": "code",
   "execution_count": null,
   "id": "1d081a1b",
   "metadata": {},
   "outputs": [],
   "source": [
    "user  = {'Name' : \"Seeta\",\n",
    "'age' : 23,\n",
    "'email' : 'Seeta@example.com'}\n"
   ]
  },
  {
   "cell_type": "code",
   "execution_count": 15,
   "id": "1b65efe4",
   "metadata": {},
   "outputs": [],
   "source": [
    "def function (**kwargs):\n",
    "        print(kwargs)\n",
    "        print(type(kwargs))\n",
    "        for key,value in kwargs.items():\n",
    "                # print(f'key:{key},value:{value}')\n",
    "                print(f'{key}: {value}')"
   ]
  },
  {
   "cell_type": "code",
   "execution_count": 16,
   "id": "088ad467",
   "metadata": {},
   "outputs": [
    {
     "name": "stdout",
     "output_type": "stream",
     "text": [
      "{'name': 'Geeta', 'Age': 24}\n",
      "<class 'dict'>\n",
      "name: Geeta\n",
      "Age: 24\n"
     ]
    }
   ],
   "source": [
    "function(name = 'Geeta', Age = 24)"
   ]
  },
  {
   "cell_type": "code",
   "execution_count": null,
   "id": "88b2c9c7",
   "metadata": {},
   "outputs": [],
   "source": []
  },
  {
   "cell_type": "code",
   "execution_count": 17,
   "id": "af1e6920",
   "metadata": {},
   "outputs": [
    {
     "name": "stdout",
     "output_type": "stream",
     "text": [
      "{'name': 'Raman T', 'age': 25, 'email': 'fdfdfdfdfdf'}\n",
      "<class 'dict'>\n",
      "name: Raman T\n",
      "age: 25\n",
      "email: fdfdfdfdfdf\n"
     ]
    }
   ],
   "source": [
    "function(name = 'Raman T', age = 25, email = 'fdfdfdfdfdf')"
   ]
  },
  {
   "cell_type": "code",
   "execution_count": 18,
   "id": "74eca95e",
   "metadata": {},
   "outputs": [
    {
     "name": "stdout",
     "output_type": "stream",
     "text": [
      "{'name': 'Seema', 'Degree': 'BE'}\n",
      "<class 'dict'>\n",
      "name: Seema\n",
      "Degree: BE\n"
     ]
    }
   ],
   "source": [
    "function(name ='Seema',Degree='BE')"
   ]
  },
  {
   "cell_type": "code",
   "execution_count": 19,
   "id": "876208c0",
   "metadata": {},
   "outputs": [],
   "source": [
    "def update_user(**kwargs):\n",
    "    user= {'Name': None,\n",
    "                'Age': None,\n",
    "                    'email':None}\n",
    "    user.update(kwargs)\n",
    "    return user"
   ]
  },
  {
   "cell_type": "code",
   "execution_count": 21,
   "id": "046c6142",
   "metadata": {},
   "outputs": [
    {
     "data": {
      "text/plain": [
       "{'Name': 'Seema', 'Age': 23, 'email': 'aa@gmail'}"
      ]
     },
     "execution_count": 21,
     "metadata": {},
     "output_type": "execute_result"
    }
   ],
   "source": [
    "update_user(Name = 'Seema',Age=23,email ='aa@gmail')"
   ]
  },
  {
   "cell_type": "code",
   "execution_count": 22,
   "id": "cab73ff2",
   "metadata": {},
   "outputs": [
    {
     "data": {
      "text/plain": [
       "{'Name': 'Seema', 'Age': None, 'email': 'aa@gmail', 'Position': 'SSE'}"
      ]
     },
     "execution_count": 22,
     "metadata": {},
     "output_type": "execute_result"
    }
   ],
   "source": [
    "update_user(Name = 'Seema',Position= 'SSE',email ='aa@gmail')"
   ]
  },
  {
   "cell_type": "code",
   "execution_count": 23,
   "id": "3a6b822a",
   "metadata": {},
   "outputs": [
    {
     "data": {
      "text/plain": [
       "{'Name': 'Seema', 'Age': 17, 'email': 'aa@gmail', 'Position': 'SSE'}"
      ]
     },
     "execution_count": 23,
     "metadata": {},
     "output_type": "execute_result"
    }
   ],
   "source": [
    "update_user(Name = 'Seema',Age=17,Position= 'SSE',email ='aa@gmail')"
   ]
  },
  {
   "cell_type": "code",
   "execution_count": 24,
   "id": "731c0fe0",
   "metadata": {},
   "outputs": [
    {
     "data": {
      "text/plain": [
       "{'Name': 'Teena', 'Age': 17, 'email': 'aa@gmail', 'Position': 'SSE'}"
      ]
     },
     "execution_count": 24,
     "metadata": {},
     "output_type": "execute_result"
    }
   ],
   "source": [
    "update_user(Name = 'Teena',Age=17,Position= 'SSE',email ='aa@gmail')"
   ]
  },
  {
   "cell_type": "code",
   "execution_count": 25,
   "id": "34ec05d2",
   "metadata": {},
   "outputs": [],
   "source": [
    "def update_user(**kwargs):\n",
    "    user= {'Name': None,\n",
    "                'Age': 21,\n",
    "                    'email':None}\n",
    "    user.update(kwargs)\n",
    "    return user"
   ]
  },
  {
   "cell_type": "code",
   "execution_count": 26,
   "id": "2d29e749",
   "metadata": {},
   "outputs": [
    {
     "data": {
      "text/plain": [
       "{'Name': None, 'Age': 21, 'email': None, 'Location': 'Pune'}"
      ]
     },
     "execution_count": 26,
     "metadata": {},
     "output_type": "execute_result"
    }
   ],
   "source": [
    "update_user(Location='Pune')"
   ]
  },
  {
   "cell_type": "code",
   "execution_count": 27,
   "id": "7975e2f7",
   "metadata": {},
   "outputs": [],
   "source": [
    "# Function for Creating Bill in hotel"
   ]
  },
  {
   "cell_type": "code",
   "execution_count": 29,
   "id": "e37f15d3",
   "metadata": {},
   "outputs": [
    {
     "data": {
      "text/plain": [
       "{'Pizza': 250, 'Burger': 100, 'Sandwich': 100, 'Coffee': 40}"
      ]
     },
     "execution_count": 29,
     "metadata": {},
     "output_type": "execute_result"
    }
   ],
   "source": [
    "Menu = {'Pizza' : 250, 'Burger' : 100, 'Sandwich': 100, 'Coffee': 40}\n",
    "Menu"
   ]
  },
  {
   "cell_type": "code",
   "execution_count": 31,
   "id": "564aef1b",
   "metadata": {},
   "outputs": [
    {
     "data": {
      "text/plain": [
       "250"
      ]
     },
     "execution_count": 31,
     "metadata": {},
     "output_type": "execute_result"
    }
   ],
   "source": [
    "Menu.get('Pizza')"
   ]
  },
  {
   "cell_type": "code",
   "execution_count": 33,
   "id": "86e0d632",
   "metadata": {},
   "outputs": [
    {
     "name": "stdout",
     "output_type": "stream",
     "text": [
      "None\n"
     ]
    }
   ],
   "source": [
    "a=Menu.get('Tea')\n",
    "print(a)\n"
   ]
  },
  {
   "cell_type": "code",
   "execution_count": 38,
   "id": "de03ccf7",
   "metadata": {},
   "outputs": [],
   "source": [
    "def hotel_bill(**kwargs):\n",
    "    total_bill = 0\n",
    "    for food,quantity in kwargs.items():\n",
    "        price = Menu.get(food)\n",
    "        if price is not None:\n",
    "            sub_tot = price*quantity\n",
    "            print(f'Bill for {food}',sub_tot)\n",
    "            total_bill += sub_tot\n",
    "        else:\n",
    "            print(f'{food} not Available')\n",
    "    return total_bill"
   ]
  },
  {
   "cell_type": "code",
   "execution_count": 39,
   "id": "56489cba",
   "metadata": {},
   "outputs": [
    {
     "name": "stdout",
     "output_type": "stream",
     "text": [
      "Bill for Pizza 500\n",
      "Bill for Burger 300\n",
      "Samosa not Available\n",
      "Bill is 800\n"
     ]
    }
   ],
   "source": [
    "bill=hotel_bill(Pizza=2,Burger=3,Samosa=1)\n",
    "print (f'Bill is {bill}')"
   ]
  },
  {
   "cell_type": "code",
   "execution_count": null,
   "id": "76d7598e",
   "metadata": {},
   "outputs": [],
   "source": []
  },
  {
   "cell_type": "code",
   "execution_count": null,
   "id": "e0e91c41",
   "metadata": {},
   "outputs": [],
   "source": []
  },
  {
   "cell_type": "code",
   "execution_count": null,
   "id": "3e693bf9",
   "metadata": {},
   "outputs": [],
   "source": []
  },
  {
   "cell_type": "code",
   "execution_count": null,
   "id": "371771b5",
   "metadata": {},
   "outputs": [],
   "source": []
  }
 ],
 "metadata": {
  "kernelspec": {
   "display_name": "venv",
   "language": "python",
   "name": "python3"
  },
  "language_info": {
   "codemirror_mode": {
    "name": "ipython",
    "version": 3
   },
   "file_extension": ".py",
   "mimetype": "text/x-python",
   "name": "python",
   "nbconvert_exporter": "python",
   "pygments_lexer": "ipython3",
   "version": "3.12.10"
  }
 },
 "nbformat": 4,
 "nbformat_minor": 5
}
