{
 "cells": [
  {
   "cell_type": "code",
   "execution_count": null,
   "id": "1d081a1b",
   "metadata": {},
   "outputs": [],
   "source": [
    "user  = {'Name' : \"Seeta\",\n",
    "'age' : 23,\n",
    "'email' : 'Seeta@example.com'}\n"
   ]
  },
  {
   "cell_type": "code",
   "execution_count": 15,
   "id": "1b65efe4",
   "metadata": {},
   "outputs": [],
   "source": [
    "def function (**kwargs):\n",
    "        print(kwargs)\n",
    "        print(type(kwargs))\n",
    "        for key,value in kwargs.items():\n",
    "                # print(f'key:{key},value:{value}')\n",
    "                print(f'{key}: {value}')"
   ]
  },
  {
   "cell_type": "code",
   "execution_count": 16,
   "id": "088ad467",
   "metadata": {},
   "outputs": [
    {
     "name": "stdout",
     "output_type": "stream",
     "text": [
      "{'name': 'Geeta', 'Age': 24}\n",
      "<class 'dict'>\n",
      "name: Geeta\n",
      "Age: 24\n"
     ]
    }
   ],
   "source": [
    "function(name = 'Geeta', Age = 24)"
   ]
  },
  {
   "cell_type": "code",
   "execution_count": null,
   "id": "88b2c9c7",
   "metadata": {},
   "outputs": [],
   "source": []
  },
  {
   "cell_type": "code",
   "execution_count": 17,
   "id": "af1e6920",
   "metadata": {},
   "outputs": [
    {
     "name": "stdout",
     "output_type": "stream",
     "text": [
      "{'name': 'Raman T', 'age': 25, 'email': 'fdfdfdfdfdf'}\n",
      "<class 'dict'>\n",
      "name: Raman T\n",
      "age: 25\n",
      "email: fdfdfdfdfdf\n"
     ]
    }
   ],
   "source": [
    "function(name = 'Raman T', age = 25, email = 'fdfdfdfdfdf')"
   ]
  },
  {
   "cell_type": "code",
   "execution_count": 18,
   "id": "74eca95e",
   "metadata": {},
   "outputs": [
    {
     "name": "stdout",
     "output_type": "stream",
     "text": [
      "{'name': 'Seema', 'Degree': 'BE'}\n",
      "<class 'dict'>\n",
      "name: Seema\n",
      "Degree: BE\n"
     ]
    }
   ],
   "source": [
    "function(name ='Seema',Degree='BE')"
   ]
  },
  {
   "cell_type": "code",
   "execution_count": 19,
   "id": "876208c0",
   "metadata": {},
   "outputs": [],
   "source": [
    "def update_user(**kwargs):\n",
    "    user= {'Name': None,\n",
    "                'Age': None,\n",
    "                    'email':None}\n",
    "    user.update(kwargs)\n",
    "    return user"
   ]
  },
  {
   "cell_type": "code",
   "execution_count": 21,
   "id": "046c6142",
   "metadata": {},
   "outputs": [
    {
     "data": {
      "text/plain": [
       "{'Name': 'Seema', 'Age': 23, 'email': 'aa@gmail'}"
      ]
     },
     "execution_count": 21,
     "metadata": {},
     "output_type": "execute_result"
    }
   ],
   "source": [
    "update_user(Name = 'Seema',Age=23,email ='aa@gmail')"
   ]
  },
  {
   "cell_type": "code",
   "execution_count": 22,
   "id": "cab73ff2",
   "metadata": {},
   "outputs": [
    {
     "data": {
      "text/plain": [
       "{'Name': 'Seema', 'Age': None, 'email': 'aa@gmail', 'Position': 'SSE'}"
      ]
     },
     "execution_count": 22,
     "metadata": {},
     "output_type": "execute_result"
    }
   ],
   "source": [
    "update_user(Name = 'Seema',Position= 'SSE',email ='aa@gmail')"
   ]
  },
  {
   "cell_type": "code",
   "execution_count": 23,
   "id": "3a6b822a",
   "metadata": {},
   "outputs": [
    {
     "data": {
      "text/plain": [
       "{'Name': 'Seema', 'Age': 17, 'email': 'aa@gmail', 'Position': 'SSE'}"
      ]
     },
     "execution_count": 23,
     "metadata": {},
     "output_type": "execute_result"
    }
   ],
   "source": [
    "update_user(Name = 'Seema',Age=17,Position= 'SSE',email ='aa@gmail')"
   ]
  },
  {
   "cell_type": "code",
   "execution_count": 24,
   "id": "731c0fe0",
   "metadata": {},
   "outputs": [
    {
     "data": {
      "text/plain": [
       "{'Name': 'Teena', 'Age': 17, 'email': 'aa@gmail', 'Position': 'SSE'}"
      ]
     },
     "execution_count": 24,
     "metadata": {},
     "output_type": "execute_result"
    }
   ],
   "source": [
    "update_user(Name = 'Teena',Age=17,Position= 'SSE',email ='aa@gmail')"
   ]
  },
  {
   "cell_type": "code",
   "execution_count": 25,
   "id": "34ec05d2",
   "metadata": {},
   "outputs": [],
   "source": [
    "def update_user(**kwargs):\n",
    "    user= {'Name': None,\n",
    "                'Age': 21,\n",
    "                    'email':None}\n",
    "    user.update(kwargs)\n",
    "    return user"
   ]
  },
  {
   "cell_type": "code",
   "execution_count": 26,
   "id": "2d29e749",
   "metadata": {},
   "outputs": [
    {
     "data": {
      "text/plain": [
       "{'Name': None, 'Age': 21, 'email': None, 'Location': 'Pune'}"
      ]
     },
     "execution_count": 26,
     "metadata": {},
     "output_type": "execute_result"
    }
   ],
   "source": [
    "update_user(Location='Pune')"
   ]
  },
  {
   "cell_type": "code",
   "execution_count": 27,
   "id": "7975e2f7",
   "metadata": {},
   "outputs": [],
   "source": [
    "# Function for Creating Bill in hotel"
   ]
  },
  {
   "cell_type": "code",
   "execution_count": 29,
   "id": "e37f15d3",
   "metadata": {},
   "outputs": [
    {
     "data": {
      "text/plain": [
       "{'Pizza': 250, 'Burger': 100, 'Sandwich': 100, 'Coffee': 40}"
      ]
     },
     "execution_count": 29,
     "metadata": {},
     "output_type": "execute_result"
    }
   ],
   "source": [
    "Menu = {'Pizza' : 250, 'Burger' : 100, 'Sandwich': 100, 'Coffee': 40}\n",
    "Menu"
   ]
  },
  {
   "cell_type": "code",
   "execution_count": 31,
   "id": "564aef1b",
   "metadata": {},
   "outputs": [
    {
     "data": {
      "text/plain": [
       "250"
      ]
     },
     "execution_count": 31,
     "metadata": {},
     "output_type": "execute_result"
    }
   ],
   "source": [
    "Menu.get('Pizza')"
   ]
  },
  {
   "cell_type": "markdown",
   "id": "1df1f79d",
   "metadata": {},
   "source": [
    "## Decorator"
   ]
  },
  {
   "cell_type": "code",
   "execution_count": 46,
   "id": "57312fb8",
   "metadata": {},
   "outputs": [],
   "source": [
    "def welcome(func):\n",
    "    def wrapper(*args,**kwargs):\n",
    "        result = func(*args,**kwargs)\n",
    "        print('Welcome User')\n",
    "        print('This is output of original function')\n",
    "        print('Thank You')\n",
    "        return result\n",
    "    return wrapper"
   ]
  },
  {
   "cell_type": "code",
   "execution_count": 47,
   "id": "6b702ba6",
   "metadata": {},
   "outputs": [],
   "source": [
    "@welcome\n",
    "def simple_interest(P,N,R):\n",
    "    \"P-Principal amt\"\n",
    "    \"N-No.of Year\"\n",
    "    \"R-Interest rate\"\n",
    "    i=(P*N*R)/100\n",
    "    return i"
   ]
  },
  {
   "cell_type": "code",
   "execution_count": 48,
   "id": "f73b3733",
   "metadata": {},
   "outputs": [
    {
     "name": "stdout",
     "output_type": "stream",
     "text": [
      "Welcome User\n",
      "This is output of original function\n",
      "Thank You\n",
      "Interest is 72.0\n"
     ]
    }
   ],
   "source": [
    "print(f'Interest is {simple_interest(450,2,8)}')"
   ]
  },
  {
   "cell_type": "code",
   "execution_count": 53,
   "id": "e107da80",
   "metadata": {},
   "outputs": [],
   "source": [
    "@welcome\n",
    "def func(*args):\n",
    "    total=0\n",
    "    for i in args:\n",
    "        total =total+i \n",
    "    return total"
   ]
  },
  {
   "cell_type": "code",
   "execution_count": 54,
   "id": "8b2cf2b7",
   "metadata": {},
   "outputs": [
    {
     "name": "stdout",
     "output_type": "stream",
     "text": [
      "Welcome User\n",
      "This is output of original function\n",
      "Thank You\n"
     ]
    },
    {
     "data": {
      "text/plain": [
       "17"
      ]
     },
     "execution_count": 54,
     "metadata": {},
     "output_type": "execute_result"
    }
   ],
   "source": [
    "func(4,5,8)"
   ]
  },
  {
   "cell_type": "code",
   "execution_count": 33,
   "id": "86e0d632",
   "metadata": {},
   "outputs": [
    {
     "name": "stdout",
     "output_type": "stream",
     "text": [
      "None\n"
     ]
    }
   ],
   "source": [
    "a=Menu.get('Tea')\n",
    "print(a)\n"
   ]
  },
  {
   "cell_type": "code",
   "execution_count": 38,
   "id": "de03ccf7",
   "metadata": {},
   "outputs": [],
   "source": [
    "def hotel_bill(**kwargs):\n",
    "    total_bill = 0\n",
    "    for food,quantity in kwargs.items():\n",
    "        price = Menu.get(food)\n",
    "        if price is not None:\n",
    "            sub_tot = price*quantity\n",
    "            print(f'Bill for {food}',sub_tot)\n",
    "            total_bill += sub_tot\n",
    "        else:\n",
    "            print(f'{food} not Available')\n",
    "    return total_bill"
   ]
  },
  {
   "cell_type": "code",
   "execution_count": 39,
   "id": "56489cba",
   "metadata": {},
   "outputs": [
    {
     "name": "stdout",
     "output_type": "stream",
     "text": [
      "Bill for Pizza 500\n",
      "Bill for Burger 300\n",
      "Samosa not Available\n",
      "Bill is 800\n"
     ]
    }
   ],
   "source": [
    "bill=hotel_bill(Pizza=2,Burger=3,Samosa=1)\n",
    "print (f'Bill is {bill}')"
   ]
  },
  {
   "cell_type": "code",
   "execution_count": null,
   "id": "76d7598e",
   "metadata": {},
   "outputs": [],
   "source": []
  },
  {
   "cell_type": "code",
   "execution_count": 62,
   "id": "e0e91c41",
   "metadata": {},
   "outputs": [],
   "source": [
    "user_dict  = {'Seeta':'Seeta','Teena':'Teena','Meena':'Meena'}\n"
   ]
  },
  {
   "cell_type": "code",
   "execution_count": 63,
   "id": "3e693bf9",
   "metadata": {},
   "outputs": [
    {
     "name": "stdout",
     "output_type": "stream",
     "text": [
      "{'Seeta': 'Seeta', 'Teena': 'Teena', 'Meena': 'Meena'}\n"
     ]
    }
   ],
   "source": [
    "print(user_dict)"
   ]
  },
  {
   "cell_type": "code",
   "execution_count": 83,
   "id": "371771b5",
   "metadata": {},
   "outputs": [],
   "source": [
    "def authenticate(func):\n",
    "    def wrapper(username,password,*args,**kwargs):\n",
    "        if(username in user_dict.keys and password == user_dict.get(username)):\n",
    "            print('Log in Successfulll !!')\n",
    "            print(f'Welcom {username}')\n",
    "            result = func(username,password,*args,**kwargs)\n",
    "            return result\n",
    "        else:\n",
    "            print('Failed Login')\n",
    "    return wrapper\n",
    "\n",
    "        \n"
   ]
  },
  {
   "cell_type": "code",
   "execution_count": 84,
   "id": "7585bd2c",
   "metadata": {},
   "outputs": [],
   "source": [
    "@authenticate\n",
    "def comp_interest(username,password,P,N,R):\n",
    "    A = P*(1+(R/100))**N\n",
    "    I = A-P\n",
    "    return A,I\n"
   ]
  },
  {
   "cell_type": "code",
   "execution_count": 85,
   "id": "2b1b55c7",
   "metadata": {},
   "outputs": [
    {
     "ename": "TypeError",
     "evalue": "argument of type 'builtin_function_or_method' is not iterable",
     "output_type": "error",
     "traceback": [
      "\u001b[31m---------------------------------------------------------------------------\u001b[39m",
      "\u001b[31mTypeError\u001b[39m                                 Traceback (most recent call last)",
      "\u001b[36mCell\u001b[39m\u001b[36m \u001b[39m\u001b[32mIn[85]\u001b[39m\u001b[32m, line 1\u001b[39m\n\u001b[32m----> \u001b[39m\u001b[32m1\u001b[39m \u001b[43mcomp_interest\u001b[49m\u001b[43m(\u001b[49m\u001b[33;43m'\u001b[39;49m\u001b[33;43mMeena\u001b[39;49m\u001b[33;43m'\u001b[39;49m\u001b[43m,\u001b[49m\u001b[33;43m'\u001b[39;49m\u001b[33;43mMeena\u001b[39;49m\u001b[33;43m'\u001b[39;49m\u001b[43m,\u001b[49m\u001b[32;43m450\u001b[39;49m\u001b[43m,\u001b[49m\u001b[32;43m2\u001b[39;49m\u001b[43m,\u001b[49m\u001b[32;43m8\u001b[39;49m\u001b[43m)\u001b[49m\n",
      "\u001b[36mCell\u001b[39m\u001b[36m \u001b[39m\u001b[32mIn[83]\u001b[39m\u001b[32m, line 3\u001b[39m, in \u001b[36mauthenticate.<locals>.wrapper\u001b[39m\u001b[34m(username, password, *args, **kwargs)\u001b[39m\n\u001b[32m      2\u001b[39m \u001b[38;5;28;01mdef\u001b[39;00m\u001b[38;5;250m \u001b[39m\u001b[34mwrapper\u001b[39m(username,password,*args,**kwargs):\n\u001b[32m----> \u001b[39m\u001b[32m3\u001b[39m     \u001b[38;5;28;01mif\u001b[39;00m(\u001b[43musername\u001b[49m\u001b[43m \u001b[49m\u001b[38;5;129;43;01min\u001b[39;49;00m\u001b[43m \u001b[49m\u001b[43muser_dict\u001b[49m\u001b[43m.\u001b[49m\u001b[43mkeys\u001b[49m \u001b[38;5;129;01mand\u001b[39;00m password == user_dict.get(username)):\n\u001b[32m      4\u001b[39m         \u001b[38;5;28mprint\u001b[39m(\u001b[33m'\u001b[39m\u001b[33mLog in Successfulll !!\u001b[39m\u001b[33m'\u001b[39m)\n\u001b[32m      5\u001b[39m         \u001b[38;5;28mprint\u001b[39m(\u001b[33mf\u001b[39m\u001b[33m'\u001b[39m\u001b[33mWelcom \u001b[39m\u001b[38;5;132;01m{\u001b[39;00musername\u001b[38;5;132;01m}\u001b[39;00m\u001b[33m'\u001b[39m)\n",
      "\u001b[31mTypeError\u001b[39m: argument of type 'builtin_function_or_method' is not iterable"
     ]
    }
   ],
   "source": [
    "comp_interest('Meena','Meena',450,2,8)"
   ]
  },
  {
   "cell_type": "code",
   "execution_count": 72,
   "id": "97fe63fc",
   "metadata": {},
   "outputs": [],
   "source": [
    "@authenticate\n",
    "def add(username,password,a,b):\n",
    "    c=a+b\n",
    "    return c\n"
   ]
  },
  {
   "cell_type": "code",
   "execution_count": 73,
   "id": "b2352931",
   "metadata": {},
   "outputs": [
    {
     "ename": "TypeError",
     "evalue": "'NoneType' object is not callable",
     "output_type": "error",
     "traceback": [
      "\u001b[31m---------------------------------------------------------------------------\u001b[39m",
      "\u001b[31mTypeError\u001b[39m                                 Traceback (most recent call last)",
      "\u001b[36mCell\u001b[39m\u001b[36m \u001b[39m\u001b[32mIn[73]\u001b[39m\u001b[32m, line 1\u001b[39m\n\u001b[32m----> \u001b[39m\u001b[32m1\u001b[39m \u001b[43madd\u001b[49m\u001b[43m(\u001b[49m\u001b[33;43m'\u001b[39;49m\u001b[33;43mMeena\u001b[39;49m\u001b[33;43m'\u001b[39;49m\u001b[43m,\u001b[49m\u001b[33;43m'\u001b[39;49m\u001b[33;43mMeena\u001b[39;49m\u001b[33;43m'\u001b[39;49m\u001b[43m,\u001b[49m\u001b[32;43m3\u001b[39;49m\u001b[43m,\u001b[49m\u001b[32;43m4\u001b[39;49m\u001b[43m)\u001b[49m\n",
      "\u001b[31mTypeError\u001b[39m: 'NoneType' object is not callable"
     ]
    }
   ],
   "source": [
    "add('Meena','Meena',3,4)"
   ]
  },
  {
   "cell_type": "code",
   "execution_count": null,
   "id": "0c65d23e",
   "metadata": {},
   "outputs": [],
   "source": []
  },
  {
   "cell_type": "code",
   "execution_count": null,
   "id": "b6061e08",
   "metadata": {},
   "outputs": [],
   "source": []
  },
  {
   "cell_type": "code",
   "execution_count": 75,
   "id": "da2cb497",
   "metadata": {},
   "outputs": [],
   "source": [
    "def authincate(func):\n",
    "    def wrapper(username , password ,args  , * kwargs):\n",
    "        for  username  , password in user.items():\n",
    "            if (username in user.keys()) and (password == user.get(username)):\n",
    "                print('Login Succesful')\n",
    "                print(f'Welcome {username}')\n",
    "                result = func(username , password ,args  , * kwargs)\n",
    "                return result\n",
    "            else:\n",
    "                print('Failed to login .Please Check username and password')\n",
    "            \n",
    "        return wrapper"
   ]
  },
  {
   "cell_type": "code",
   "execution_count": 74,
   "id": "fa4d132a",
   "metadata": {},
   "outputs": [],
   "source": [
    "user = {\n",
    "    \"Sarthak1\": \"sarthak@123\",\n",
    "    \"admin\": \"admin123\"\n",
    "}"
   ]
  },
  {
   "cell_type": "code",
   "execution_count": 76,
   "id": "b0b84564",
   "metadata": {},
   "outputs": [
    {
     "name": "stdout",
     "output_type": "stream",
     "text": [
      "Login successful. Welcome Sarthak1\n",
      "Thank you for using this function.\n"
     ]
    },
    {
     "ename": "TypeError",
     "evalue": "'int' object is not callable",
     "output_type": "error",
     "traceback": [
      "\u001b[31m---------------------------------------------------------------------------\u001b[39m",
      "\u001b[31mTypeError\u001b[39m                                 Traceback (most recent call last)",
      "\u001b[36mCell\u001b[39m\u001b[36m \u001b[39m\u001b[32mIn[76]\u001b[39m\u001b[32m, line 19\u001b[39m\n\u001b[32m     16\u001b[39m     I = A - P\n\u001b[32m     17\u001b[39m     \u001b[38;5;28;01mreturn\u001b[39;00m A, I\n\u001b[32m---> \u001b[39m\u001b[32m19\u001b[39m \u001b[43mcompound_interest\u001b[49m\u001b[43m(\u001b[49m\u001b[33;43m'\u001b[39;49m\u001b[33;43mSarthak1\u001b[39;49m\u001b[33;43m'\u001b[39;49m\u001b[43m,\u001b[49m\u001b[43m \u001b[49m\u001b[33;43m'\u001b[39;49m\u001b[33;43msarthak@123\u001b[39;49m\u001b[33;43m'\u001b[39;49m\u001b[43m,\u001b[49m\u001b[43m \u001b[49m\u001b[32;43m45000\u001b[39;49m\u001b[43m,\u001b[49m\u001b[43m \u001b[49m\u001b[32;43m2\u001b[39;49m\u001b[43m,\u001b[49m\u001b[43m \u001b[49m\u001b[32;43m6.5\u001b[39;49m\u001b[43m)\u001b[49m\n",
      "\u001b[36mCell\u001b[39m\u001b[36m \u001b[39m\u001b[32mIn[76]\u001b[39m\u001b[32m, line 6\u001b[39m, in \u001b[36mAuthenticate.<locals>.wrapper\u001b[39m\u001b[34m(username, password, args, *kwargs)\u001b[39m\n\u001b[32m      4\u001b[39m     \u001b[38;5;28mprint\u001b[39m(\u001b[33mf\u001b[39m\u001b[33m'\u001b[39m\u001b[33mLogin successful. Welcome \u001b[39m\u001b[38;5;132;01m{\u001b[39;00musername\u001b[38;5;132;01m}\u001b[39;00m\u001b[33m'\u001b[39m)\n\u001b[32m      5\u001b[39m     \u001b[38;5;28mprint\u001b[39m(\u001b[33m'\u001b[39m\u001b[33mThank you for using this function.\u001b[39m\u001b[33m'\u001b[39m)\n\u001b[32m----> \u001b[39m\u001b[32m6\u001b[39m     result = \u001b[43mfunc\u001b[49m\u001b[43m(\u001b[49m\u001b[43musername\u001b[49m\u001b[43m,\u001b[49m\u001b[43m \u001b[49m\u001b[43mpassword\u001b[49m\u001b[43m,\u001b[49m\u001b[43m \u001b[49m\u001b[43margs\u001b[49m\u001b[43m,\u001b[49m\u001b[43m \u001b[49m\u001b[43m*\u001b[49m\u001b[43mkwargs\u001b[49m\u001b[43m)\u001b[49m\n\u001b[32m      7\u001b[39m     \u001b[38;5;28;01mreturn\u001b[39;00m result\n\u001b[32m      8\u001b[39m \u001b[38;5;28;01melse\u001b[39;00m:\n",
      "\u001b[36mCell\u001b[39m\u001b[36m \u001b[39m\u001b[32mIn[76]\u001b[39m\u001b[32m, line 15\u001b[39m, in \u001b[36mcompound_interest\u001b[39m\u001b[34m(username, password, P, N, R)\u001b[39m\n\u001b[32m     13\u001b[39m \u001b[38;5;129m@Authenticate\u001b[39m\n\u001b[32m     14\u001b[39m \u001b[38;5;28;01mdef\u001b[39;00m\u001b[38;5;250m \u001b[39m\u001b[34mcompound_interest\u001b[39m(username, password, P, N, R):\n\u001b[32m---> \u001b[39m\u001b[32m15\u001b[39m     A = \u001b[43mP\u001b[49m\u001b[43m  \u001b[49m\u001b[43m(\u001b[49m\u001b[32;43m1\u001b[39;49m\u001b[43m \u001b[49m\u001b[43m+\u001b[49m\u001b[43m \u001b[49m\u001b[43mR\u001b[49m\u001b[43m \u001b[49m\u001b[43m/\u001b[49m\u001b[43m \u001b[49m\u001b[32;43m100\u001b[39;49m\u001b[43m)\u001b[49m * N  \u001b[38;5;66;03m# compound interest formula\u001b[39;00m\n\u001b[32m     16\u001b[39m     I = A - P\n\u001b[32m     17\u001b[39m     \u001b[38;5;28;01mreturn\u001b[39;00m A, I\n",
      "\u001b[31mTypeError\u001b[39m: 'int' object is not callable"
     ]
    }
   ],
   "source": [
    "def Authenticate(func):\n",
    "    def wrapper(username, password, args, *kwargs):\n",
    "        if (username in user.keys()) and (password == user.get(username)):\n",
    "            print(f'Login successful. Welcome {username}')\n",
    "            print('Thank you for using this function.')\n",
    "            result = func(username, password, args, *kwargs)\n",
    "            return result\n",
    "        else:\n",
    "            print('Login failed. Please check username or password.')\n",
    "    return wrapper\n",
    "\n",
    "# Function to calculate compound interest\n",
    "@Authenticate\n",
    "def compound_interest(username, password, P, N, R):\n",
    "    A = P  (1 + R / 100) * N  # compound interest formula\n",
    "    I = A - P\n",
    "    return A, I\n",
    "\n",
    "compound_interest('Sarthak1', 'sarthak@123', 45000, 2, 6.5)"
   ]
  },
  {
   "cell_type": "code",
   "execution_count": null,
   "id": "7e3d56c9",
   "metadata": {},
   "outputs": [],
   "source": []
  },
  {
   "cell_type": "code",
   "execution_count": null,
   "id": "ad69ce27",
   "metadata": {},
   "outputs": [],
   "source": []
  },
  {
   "cell_type": "code",
   "execution_count": null,
   "id": "229f5369",
   "metadata": {},
   "outputs": [],
   "source": []
  }
 ],
 "metadata": {
  "kernelspec": {
   "display_name": "venv",
   "language": "python",
   "name": "python3"
  },
  "language_info": {
   "codemirror_mode": {
    "name": "ipython",
    "version": 3
   },
   "file_extension": ".py",
   "mimetype": "text/x-python",
   "name": "python",
   "nbconvert_exporter": "python",
   "pygments_lexer": "ipython3",
   "version": "3.12.10"
  }
 },
 "nbformat": 4,
 "nbformat_minor": 5
}
