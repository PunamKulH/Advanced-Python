{
 "cells": [
  {
   "cell_type": "code",
   "execution_count": 1,
   "id": "b36388b1",
   "metadata": {},
   "outputs": [
    {
     "data": {
      "text/plain": [
       "[2, 3, 4, 5]"
      ]
     },
     "execution_count": 1,
     "metadata": {},
     "output_type": "execute_result"
    }
   ],
   "source": [
    "# unpacking if List\n",
    "l1=[2,3,4,5]\n",
    "l1"
   ]
  },
  {
   "cell_type": "code",
   "execution_count": 2,
   "id": "1a031506",
   "metadata": {},
   "outputs": [],
   "source": [
    "def function(*args):\n",
    "    print(args)\n",
    "    print(type(args))"
   ]
  },
  {
   "cell_type": "code",
   "execution_count": 5,
   "id": "f29cdd2c",
   "metadata": {},
   "outputs": [
    {
     "name": "stdout",
     "output_type": "stream",
     "text": [
      "(2, 3, 4, 5)\n",
      "<class 'tuple'>\n"
     ]
    }
   ],
   "source": [
    "function(*l1)"
   ]
  },
  {
   "cell_type": "code",
   "execution_count": 6,
   "id": "6cf784f2",
   "metadata": {},
   "outputs": [
    {
     "name": "stdout",
     "output_type": "stream",
     "text": [
      "([2, 3, 4, 5],)\n",
      "<class 'tuple'>\n"
     ]
    }
   ],
   "source": [
    "function(l1)"
   ]
  },
  {
   "cell_type": "code",
   "execution_count": 7,
   "id": "f31e2a2f",
   "metadata": {},
   "outputs": [
    {
     "name": "stdout",
     "output_type": "stream",
     "text": [
      "(12, 45, 23)\n",
      "<class 'tuple'>\n"
     ]
    }
   ],
   "source": [
    "function(12,45,23)"
   ]
  },
  {
   "cell_type": "code",
   "execution_count": 15,
   "id": "311bf35b",
   "metadata": {},
   "outputs": [],
   "source": [
    "def add(l1):\n",
    "    total = 0\n",
    "    for i in l1 :\n",
    "        total +=i\n",
    "    print(f'Total is {total}')"
   ]
  },
  {
   "cell_type": "code",
   "execution_count": 16,
   "id": "d0d435bf",
   "metadata": {},
   "outputs": [
    {
     "name": "stdout",
     "output_type": "stream",
     "text": [
      "Total is 14\n"
     ]
    }
   ],
   "source": [
    "add(l1)"
   ]
  },
  {
   "cell_type": "code",
   "execution_count": null,
   "id": "4877ea5a",
   "metadata": {},
   "outputs": [],
   "source": []
  },
  {
   "cell_type": "markdown",
   "id": "c8bc349f",
   "metadata": {},
   "source": [
    "# Keyword Argument\n"
   ]
  },
  {
   "cell_type": "code",
   "execution_count": 19,
   "id": "628c758c",
   "metadata": {},
   "outputs": [],
   "source": [
    "def func(**kwargs):\n",
    "    print(kwargs)\n",
    "    print(type(kwargs))"
   ]
  },
  {
   "cell_type": "code",
   "execution_count": 20,
   "id": "495421f5",
   "metadata": {},
   "outputs": [
    {
     "name": "stdout",
     "output_type": "stream",
     "text": [
      "{'name': 'Reena', 'age': 28, 'profession': 'PM'}\n",
      "<class 'dict'>\n"
     ]
    }
   ],
   "source": [
    "func(name = 'Reena', age = 28, profession = 'PM')"
   ]
  },
  {
   "cell_type": "code",
   "execution_count": 31,
   "id": "ba45f684",
   "metadata": {},
   "outputs": [],
   "source": [
    "user = {'name':'Seeta','age':20,'Education':'BE'}"
   ]
  },
  {
   "cell_type": "code",
   "execution_count": 32,
   "id": "6f87b217",
   "metadata": {},
   "outputs": [
    {
     "data": {
      "text/plain": [
       "{'name': 'AAA', 'age': 20, 'Education': 'BE'}"
      ]
     },
     "execution_count": 32,
     "metadata": {},
     "output_type": "execute_result"
    }
   ],
   "source": [
    "user.update(name='AAA')\n",
    "user"
   ]
  },
  {
   "cell_type": "code",
   "execution_count": 34,
   "id": "7f91e8ac",
   "metadata": {},
   "outputs": [
    {
     "data": {
      "text/plain": [
       "{'name': 'AAA', 'age': 18, 'Education': 'BE'}"
      ]
     },
     "execution_count": 34,
     "metadata": {},
     "output_type": "execute_result"
    }
   ],
   "source": [
    "user['age']=18\n",
    "user"
   ]
  },
  {
   "cell_type": "code",
   "execution_count": 28,
   "id": "5acfa87f",
   "metadata": {},
   "outputs": [],
   "source": [
    "def user_fun(**kwargs):\n",
    "    user = {'name':'ABC','age':18,'Education':'BA'}\n",
    "    user.update(kwargs)\n",
    "    return user"
   ]
  },
  {
   "cell_type": "code",
   "execution_count": 29,
   "id": "77c43e36",
   "metadata": {},
   "outputs": [
    {
     "data": {
      "text/plain": [
       "{'name': 'ABC', 'age': 20, 'Education': 'MA'}"
      ]
     },
     "execution_count": 29,
     "metadata": {},
     "output_type": "execute_result"
    }
   ],
   "source": [
    "user_fun(age=20,Education ='MA')"
   ]
  },
  {
   "cell_type": "code",
   "execution_count": 30,
   "id": "133ae57e",
   "metadata": {},
   "outputs": [
    {
     "data": {
      "text/plain": [
       "{'name': 'Seema', 'age': 20, 'Education': 'MA'}"
      ]
     },
     "execution_count": 30,
     "metadata": {},
     "output_type": "execute_result"
    }
   ],
   "source": [
    "user_fun(name='Seema',age=20,Education ='MA')"
   ]
  },
  {
   "cell_type": "code",
   "execution_count": 44,
   "id": "b51f0983",
   "metadata": {},
   "outputs": [],
   "source": [
    "def user_fun(**kwargs):\n",
    "    user = {}\n",
    "    for i in kwargs.keys():\n",
    "        print(i)\n",
    "        if (i=='name'):\n",
    "            user[i] = 'ZZZ'\n",
    "    return user"
   ]
  },
  {
   "cell_type": "code",
   "execution_count": 45,
   "id": "bc850bfb",
   "metadata": {},
   "outputs": [
    {
     "name": "stdout",
     "output_type": "stream",
     "text": [
      "name\n",
      "age\n",
      "Education\n"
     ]
    },
    {
     "data": {
      "text/plain": [
       "{'name': 'ZZZ'}"
      ]
     },
     "execution_count": 45,
     "metadata": {},
     "output_type": "execute_result"
    }
   ],
   "source": [
    "user_fun(**user)"
   ]
  },
  {
   "cell_type": "code",
   "execution_count": 73,
   "id": "64ab1d92",
   "metadata": {},
   "outputs": [],
   "source": [
    "def fun1(**kwargs):\n",
    "    flag=1\n",
    "    user = {'name': None,'age':None,'Education':None}\n",
    "    for key in kwargs.keys():\n",
    "        if key == user.keys():\n",
    "            print(key)\n",
    "            user.update(kwargs)\n",
    "        else:\n",
    "             print('Key is diff, incorrect user data')\n",
    "             flag=0\n",
    "             break\n",
    "    if (flag == 1):\n",
    "         return user"
   ]
  },
  {
   "cell_type": "code",
   "execution_count": 88,
   "id": "044b526b",
   "metadata": {},
   "outputs": [],
   "source": [
    "def func1(**kwargs):\n",
    "    flag=1\n",
    "    user = {'name': None,'age':None,'Education':None}\n",
    "    for key in kwargs.keys():\n",
    "        print(f'for key {key}')\n",
    "        print(f'user keys {user.keys()}')\n",
    "        if key.isinstance(user.keys()):\n",
    "            print(key)\n",
    "            user.update(kwargs)\n",
    "        else:\n",
    "             print('else ',key)\n",
    "             print('Key is diff, incorrect user data')\n",
    "             flag=0\n",
    "             break\n",
    "    if (flag == 1):\n",
    "         return user"
   ]
  },
  {
   "cell_type": "code",
   "execution_count": 47,
   "id": "dda80125",
   "metadata": {},
   "outputs": [
    {
     "data": {
      "text/plain": [
       "{'name': 'AAA', 'age': None, 'Education': None}"
      ]
     },
     "execution_count": 47,
     "metadata": {},
     "output_type": "execute_result"
    }
   ],
   "source": [
    "fun1(name = 'AAA')"
   ]
  },
  {
   "cell_type": "code",
   "execution_count": 89,
   "id": "fbc440ce",
   "metadata": {},
   "outputs": [
    {
     "name": "stdout",
     "output_type": "stream",
     "text": [
      "for key name\n",
      "user keys dict_keys(['name', 'age', 'Education'])\n"
     ]
    },
    {
     "ename": "AttributeError",
     "evalue": "'str' object has no attribute 'isinstance'",
     "output_type": "error",
     "traceback": [
      "\u001b[31m---------------------------------------------------------------------------\u001b[39m",
      "\u001b[31mAttributeError\u001b[39m                            Traceback (most recent call last)",
      "\u001b[36mCell\u001b[39m\u001b[36m \u001b[39m\u001b[32mIn[89]\u001b[39m\u001b[32m, line 1\u001b[39m\n\u001b[32m----> \u001b[39m\u001b[32m1\u001b[39m \u001b[43mfunc1\u001b[49m\u001b[43m(\u001b[49m\u001b[43mname\u001b[49m\u001b[43m \u001b[49m\u001b[43m=\u001b[49m\u001b[43m \u001b[49m\u001b[33;43m'\u001b[39;49m\u001b[33;43mTeena\u001b[39;49m\u001b[33;43m'\u001b[39;49m\u001b[43m,\u001b[49m\u001b[43mag1\u001b[49m\u001b[43m=\u001b[49m\u001b[32;43m19\u001b[39;49m\u001b[43m,\u001b[49m\u001b[43mEduation\u001b[49m\u001b[43m \u001b[49m\u001b[43m=\u001b[49m\u001b[43m \u001b[49m\u001b[33;43m'\u001b[39;49m\u001b[33;43mBE\u001b[39;49m\u001b[33;43m'\u001b[39;49m\u001b[43m)\u001b[49m\n",
      "\u001b[36mCell\u001b[39m\u001b[36m \u001b[39m\u001b[32mIn[88]\u001b[39m\u001b[32m, line 7\u001b[39m, in \u001b[36mfunc1\u001b[39m\u001b[34m(**kwargs)\u001b[39m\n\u001b[32m      5\u001b[39m \u001b[38;5;28mprint\u001b[39m(\u001b[33mf\u001b[39m\u001b[33m'\u001b[39m\u001b[33mfor key \u001b[39m\u001b[38;5;132;01m{\u001b[39;00mkey\u001b[38;5;132;01m}\u001b[39;00m\u001b[33m'\u001b[39m)\n\u001b[32m      6\u001b[39m \u001b[38;5;28mprint\u001b[39m(\u001b[33mf\u001b[39m\u001b[33m'\u001b[39m\u001b[33muser keys \u001b[39m\u001b[38;5;132;01m{\u001b[39;00muser.keys()\u001b[38;5;132;01m}\u001b[39;00m\u001b[33m'\u001b[39m)\n\u001b[32m----> \u001b[39m\u001b[32m7\u001b[39m \u001b[38;5;28;01mif\u001b[39;00m \u001b[43mkey\u001b[49m\u001b[43m.\u001b[49m\u001b[43misinstance\u001b[49m(user.keys()):\n\u001b[32m      8\u001b[39m     \u001b[38;5;28mprint\u001b[39m(key)\n\u001b[32m      9\u001b[39m     user.update(kwargs)\n",
      "\u001b[31mAttributeError\u001b[39m: 'str' object has no attribute 'isinstance'"
     ]
    }
   ],
   "source": [
    "func1(name = 'Teena',ag1=19,Eduation = 'BE')"
   ]
  },
  {
   "cell_type": "code",
   "execution_count": 74,
   "id": "d9056269",
   "metadata": {},
   "outputs": [
    {
     "name": "stdout",
     "output_type": "stream",
     "text": [
      "Key is diff, incorrect user data\n"
     ]
    }
   ],
   "source": [
    "fun1(name = 'Teena',age=19,Education = 'BE')"
   ]
  },
  {
   "cell_type": "code",
   "execution_count": null,
   "id": "bb3a6904",
   "metadata": {},
   "outputs": [],
   "source": []
  },
  {
   "cell_type": "code",
   "execution_count": 111,
   "id": "e097fdd5",
   "metadata": {},
   "outputs": [],
   "source": [
    "def func12(**kwargs):\n",
    "    flag =1\n",
    "    user = {'Name' : None,\n",
    "            'Age' : None,\n",
    "             'Education' : None}\n",
    "    l1 = user.keys()\n",
    "    print(l1)\n",
    "    for i in kwargs.keys():\n",
    "         if i in l1:\n",
    "          user.update(kwargs)\n",
    "         else:\n",
    "            print('Data is differnt')\n",
    "            flag=0\n",
    "            break\n",
    "    if(flag==1):\n",
    "        return user"
   ]
  },
  {
   "cell_type": "code",
   "execution_count": 113,
   "id": "2029998b",
   "metadata": {},
   "outputs": [
    {
     "name": "stdout",
     "output_type": "stream",
     "text": [
      "dict_keys(['Name', 'Age', 'Education'])\n"
     ]
    },
    {
     "data": {
      "text/plain": [
       "{'Name': 'Geeta', 'Age': 12, 'Education': None, 'ducation': 'BE'}"
      ]
     },
     "execution_count": 113,
     "metadata": {},
     "output_type": "execute_result"
    }
   ],
   "source": [
    "func12(Name = 'Geeta', Age = 12, ducation = 'BE')"
   ]
  },
  {
   "cell_type": "markdown",
   "id": "4e58d408",
   "metadata": {},
   "source": []
  },
  {
   "cell_type": "code",
   "execution_count": 98,
   "id": "f22e79c0",
   "metadata": {},
   "outputs": [
    {
     "name": "stdout",
     "output_type": "stream",
     "text": [
      "dict_keys(['Name', 'Age', 'Education'])\n"
     ]
    },
    {
     "ename": "RuntimeError",
     "evalue": "dictionary changed size during iteration",
     "output_type": "error",
     "traceback": [
      "\u001b[31m---------------------------------------------------------------------------\u001b[39m",
      "\u001b[31mRuntimeError\u001b[39m                              Traceback (most recent call last)",
      "\u001b[36mCell\u001b[39m\u001b[36m \u001b[39m\u001b[32mIn[98]\u001b[39m\u001b[32m, line 1\u001b[39m\n\u001b[32m----> \u001b[39m\u001b[32m1\u001b[39m \u001b[43mfunc12\u001b[49m\u001b[43m(\u001b[49m\u001b[43mName\u001b[49m\u001b[43m=\u001b[49m\u001b[33;43m'\u001b[39;49m\u001b[33;43mGeeta\u001b[39;49m\u001b[33;43m'\u001b[39;49m\u001b[43m,\u001b[49m\u001b[43mAge\u001b[49m\u001b[43m=\u001b[49m\u001b[32;43m12\u001b[39;49m\u001b[43m,\u001b[49m\u001b[43mEducatio\u001b[49m\u001b[43m=\u001b[49m\u001b[33;43m'\u001b[39;49m\u001b[33;43mBE\u001b[39;49m\u001b[33;43m'\u001b[39;49m\u001b[43m)\u001b[49m\n",
      "\u001b[36mCell\u001b[39m\u001b[36m \u001b[39m\u001b[32mIn[94]\u001b[39m\u001b[32m, line 7\u001b[39m, in \u001b[36mfunc12\u001b[39m\u001b[34m(**kwargs)\u001b[39m\n\u001b[32m      5\u001b[39m l1 = user.keys()\n\u001b[32m      6\u001b[39m \u001b[38;5;28mprint\u001b[39m(l1)\n\u001b[32m----> \u001b[39m\u001b[32m7\u001b[39m \u001b[43m\u001b[49m\u001b[38;5;28;43;01mfor\u001b[39;49;00m\u001b[43m \u001b[49m\u001b[43mi\u001b[49m\u001b[43m \u001b[49m\u001b[38;5;129;43;01min\u001b[39;49;00m\u001b[43m \u001b[49m\u001b[43ml1\u001b[49m\u001b[43m:\u001b[49m\n\u001b[32m      8\u001b[39m \u001b[43m     \u001b[49m\u001b[38;5;28;43;01mif\u001b[39;49;00m\u001b[43m \u001b[49m\u001b[43mi\u001b[49m\u001b[43m \u001b[49m\u001b[38;5;129;43;01min\u001b[39;49;00m\u001b[43m \u001b[49m\u001b[43m(\u001b[49m\u001b[43mkwargs\u001b[49m\u001b[43m.\u001b[49m\u001b[43mkeys\u001b[49m\u001b[43m(\u001b[49m\u001b[43m)\u001b[49m\u001b[43m)\u001b[49m\u001b[43m:\u001b[49m\n\u001b[32m      9\u001b[39m \u001b[43m      \u001b[49m\u001b[43muser\u001b[49m\u001b[43m.\u001b[49m\u001b[43mupdate\u001b[49m\u001b[43m(\u001b[49m\u001b[43mkwargs\u001b[49m\u001b[43m)\u001b[49m\n",
      "\u001b[31mRuntimeError\u001b[39m: dictionary changed size during iteration"
     ]
    }
   ],
   "source": [
    "func12(Name='Geeta',Age=12,Educatio='BE')"
   ]
  },
  {
   "cell_type": "code",
   "execution_count": null,
   "id": "7edd58d2",
   "metadata": {},
   "outputs": [],
   "source": []
  },
  {
   "cell_type": "code",
   "execution_count": null,
   "id": "60c0517d",
   "metadata": {},
   "outputs": [],
   "source": []
  },
  {
   "cell_type": "code",
   "execution_count": null,
   "id": "6b80c209",
   "metadata": {},
   "outputs": [],
   "source": []
  },
  {
   "cell_type": "code",
   "execution_count": null,
   "id": "38e5275c",
   "metadata": {},
   "outputs": [],
   "source": []
  },
  {
   "cell_type": "code",
   "execution_count": null,
   "id": "c8b4e493",
   "metadata": {},
   "outputs": [],
   "source": []
  },
  {
   "cell_type": "code",
   "execution_count": null,
   "id": "e6bf1cfe",
   "metadata": {},
   "outputs": [],
   "source": []
  },
  {
   "cell_type": "code",
   "execution_count": null,
   "id": "afc8d926",
   "metadata": {},
   "outputs": [],
   "source": []
  },
  {
   "cell_type": "code",
   "execution_count": null,
   "id": "582e0fbe",
   "metadata": {},
   "outputs": [],
   "source": []
  }
 ],
 "metadata": {
  "kernelspec": {
   "display_name": "venv",
   "language": "python",
   "name": "python3"
  },
  "language_info": {
   "codemirror_mode": {
    "name": "ipython",
    "version": 3
   },
   "file_extension": ".py",
   "mimetype": "text/x-python",
   "name": "python",
   "nbconvert_exporter": "python",
   "pygments_lexer": "ipython3",
   "version": "3.12.10"
  }
 },
 "nbformat": 4,
 "nbformat_minor": 5
}
