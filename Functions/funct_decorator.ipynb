{
 "cells": [
  {
   "cell_type": "code",
   "execution_count": 2,
   "id": "af1f8f8f",
   "metadata": {},
   "outputs": [],
   "source": [
    "menu = {'Pizza': 250,\n",
    "        'Burger' : 150,\n",
    "        'Sandwich': 100,\n",
    "         'Coffee' : 40}"
   ]
  },
  {
   "cell_type": "code",
   "execution_count": 3,
   "id": "50037676",
   "metadata": {},
   "outputs": [
    {
     "data": {
      "text/plain": [
       "250"
      ]
     },
     "execution_count": 3,
     "metadata": {},
     "output_type": "execute_result"
    }
   ],
   "source": [
    "menu.get('Pizza')"
   ]
  },
  {
   "cell_type": "code",
   "execution_count": 4,
   "id": "a0c18fdb",
   "metadata": {},
   "outputs": [],
   "source": [
    "menu.get('Samosa')"
   ]
  },
  {
   "cell_type": "code",
   "execution_count": 5,
   "id": "3abd72b7",
   "metadata": {},
   "outputs": [
    {
     "name": "stdout",
     "output_type": "stream",
     "text": [
      "None\n"
     ]
    }
   ],
   "source": [
    "a=menu.get('Samosa')\n",
    "print(a)"
   ]
  },
  {
   "cell_type": "code",
   "execution_count": 30,
   "id": "7f3f354c",
   "metadata": {},
   "outputs": [],
   "source": [
    "menu = {'Pizza'.lower()  : 250 , \n",
    "        'Burger'.lower() : 150 ,\n",
    "        'Sandwich'.lower() :  100 , \n",
    "        'cofee'.lower() :  40}"
   ]
  },
  {
   "cell_type": "code",
   "execution_count": 28,
   "id": "ba3e7413",
   "metadata": {},
   "outputs": [],
   "source": [
    "def bill(**kwargs):\n",
    "    tot_bill=0\n",
    "    for food,quantity in kwargs.items():\n",
    "        food=food.lower()\n",
    "        price=menu.get(food)\n",
    "        if price is not None:\n",
    "            subtotal = price*quantity\n",
    "            print(f'Bill for {food} is {subtotal}')\n",
    "            tot_bill=tot_bill+subtotal\n",
    "        else:\n",
    "            print(f'{food} not availbale')\n",
    "    return tot_bill"
   ]
  },
  {
   "cell_type": "code",
   "execution_count": 31,
   "id": "45155674",
   "metadata": {},
   "outputs": [
    {
     "name": "stdout",
     "output_type": "stream",
     "text": [
      "Bill for pizza is 500\n",
      "Bill for burger is 150\n",
      "samosa not availbale\n",
      "Total Bill is 650\n"
     ]
    }
   ],
   "source": [
    "a=bill(Pizza = 2,Burger = 1,samosa=1)\n",
    "print(f'Total Bill is {a}')"
   ]
  },
  {
   "cell_type": "code",
   "execution_count": 20,
   "id": "40fbf3ba",
   "metadata": {},
   "outputs": [],
   "source": [
    "def function(**kwargs):\n",
    "    total_bill = 0\n",
    "    for food , qauntity in kwargs.items():\n",
    "        food = food.lower()\n",
    "        price = menu.get(food)\n",
    "        if price is not None :\n",
    "            subtotal = price* qauntity\n",
    "            print(f'bill for {food} is {subtotal}')\n",
    "            total_bill = total_bill + subtotal\n",
    "        else:\n",
    "            print(f'{food} item is not available')\n",
    "           \n",
    "    print('Total bill is ' , total_bill) "
   ]
  },
  {
   "cell_type": "code",
   "execution_count": 21,
   "id": "13a77034",
   "metadata": {},
   "outputs": [
    {
     "name": "stdout",
     "output_type": "stream",
     "text": [
      "bill for pizza is 500\n",
      "burger item is not available\n",
      "samosa item is not available\n",
      "Total bill is  500\n",
      "Total Bill is None\n"
     ]
    }
   ],
   "source": [
    "a=function(Pizza = 2,Burger = 1,samosa=1)\n",
    "print(f'Total Bill is {a}')"
   ]
  },
  {
   "cell_type": "code",
   "execution_count": null,
   "id": "fabe40b0",
   "metadata": {},
   "outputs": [],
   "source": []
  },
  {
   "cell_type": "markdown",
   "id": "b622d9d9",
   "metadata": {},
   "source": [
    "# Decorator"
   ]
  },
  {
   "cell_type": "code",
   "execution_count": 32,
   "id": "9f7d34e1",
   "metadata": {},
   "outputs": [],
   "source": [
    "def welcome(func):\n",
    "    def wrapper(*args,**kwargs):\n",
    "        print('Welcome User')\n",
    "        print('Thank You For Using This Data')\n",
    "        result  = func(*args,**kwargs)\n",
    "        return result\n",
    "    return wrapper"
   ]
  },
  {
   "cell_type": "code",
   "execution_count": 33,
   "id": "83f92d84",
   "metadata": {},
   "outputs": [],
   "source": [
    "@welcome\n",
    "def simple_interest(P,N,R):\n",
    "    i=(P*N*R)/100\n",
    "    A=P+i\n",
    "    print(f'Interest is {i} and Total Amount is {A}')"
   ]
  },
  {
   "cell_type": "code",
   "execution_count": 34,
   "id": "85e086fe",
   "metadata": {},
   "outputs": [
    {
     "name": "stdout",
     "output_type": "stream",
     "text": [
      "Welcome User\n",
      "Thank You For Using This Data\n",
      "Interest is 320.0 and Total Amount is 4320.0\n"
     ]
    }
   ],
   "source": [
    "simple_interest(4000,1,8)"
   ]
  },
  {
   "cell_type": "code",
   "execution_count": 2,
   "id": "dab09ed8",
   "metadata": {},
   "outputs": [],
   "source": [
    "# Dictionary for username and password\n",
    "\n",
    "user = {'punam':'punam1',\n",
    "        'Seema':'Seema1',\n",
    "        'Test':'Test1'}"
   ]
  },
  {
   "cell_type": "code",
   "execution_count": 3,
   "id": "4a982d60",
   "metadata": {},
   "outputs": [
    {
     "name": "stdout",
     "output_type": "stream",
     "text": [
      "Test1\n"
     ]
    }
   ],
   "source": [
    "print(user.get('Test'))"
   ]
  },
  {
   "cell_type": "code",
   "execution_count": 15,
   "id": "35ea1695",
   "metadata": {},
   "outputs": [],
   "source": [
    "def authenticate(func):\n",
    "    def wrapper(username,password,*args,**kwargs):\n",
    "        if(username in user.keys() and password == user.get(username)):\n",
    "            print(f'Login Succesfull user {username}')\n",
    "            print('Thank You')\n",
    "            result=func(username,password,*args,**kwargs)\n",
    "            return result\n",
    "        else:\n",
    "            print('Invalid login ')\n",
    "            print('Check username password')\n",
    "    return wrapper"
   ]
  },
  {
   "cell_type": "code",
   "execution_count": null,
   "id": "d93f7f5f",
   "metadata": {},
   "outputs": [],
   "source": [
    "@authenticate\n",
    "def compound_interest(username,password,P,N,R):\n",
    "    \"\"\"\n",
    "    Information\n",
    "    \"\"\"\n",
    "    A=P*(1+R/100)**N\n",
    "    I=A-P\n",
    "    print('Total amount to be return'\n",
    "    return A,I\n"
   ]
  },
  {
   "cell_type": "code",
   "execution_count": 19,
   "id": "47e0cf09",
   "metadata": {},
   "outputs": [
    {
     "name": "stdout",
     "output_type": "stream",
     "text": [
      "Login Succesfull user Test\n",
      "Thank You\n",
      "(990000, 945000)\n"
     ]
    }
   ],
   "source": [
    "result=compound_interest('Test','Test1',45000,3,7)\n",
    "print(result)"
   ]
  },
  {
   "cell_type": "code",
   "execution_count": 20,
   "id": "b303080a",
   "metadata": {},
   "outputs": [
    {
     "name": "stdout",
     "output_type": "stream",
     "text": [
      "Invalid login \n",
      "Check username password\n",
      "None\n"
     ]
    }
   ],
   "source": [
    "result=compound_interest('Test','Test',45000,3,7)\n",
    "print(result)"
   ]
  },
  {
   "cell_type": "code",
   "execution_count": null,
   "id": "d050b6c5",
   "metadata": {},
   "outputs": [],
   "source": []
  },
  {
   "cell_type": "markdown",
   "id": "2725c1b3",
   "metadata": {},
   "source": [
    "# Create Decorator to calculate Time\n"
   ]
  },
  {
   "cell_type": "code",
   "execution_count": 22,
   "id": "b096be9b",
   "metadata": {},
   "outputs": [],
   "source": [
    "import time"
   ]
  },
  {
   "cell_type": "code",
   "execution_count": 39,
   "id": "a074b2ea",
   "metadata": {},
   "outputs": [],
   "source": [
    "def total_time(func):\n",
    "    def wrapper(*args,**kwargs):\n",
    "        start=time.time()\n",
    "        result=func(*args,**kwargs)\n",
    "        end=time.time()\n",
    "        elapsed_time = end - start\n",
    "        print(f'Elapsed time is {elapsed_time} seconds')\n",
    "        print(result)\n",
    "    return wrapper"
   ]
  },
  {
   "cell_type": "code",
   "execution_count": 40,
   "id": "a20eb90f",
   "metadata": {},
   "outputs": [],
   "source": [
    "@total_time\n",
    "def compound_interest(P,N,R):\n",
    "    \"\"\"\n",
    "    Information\n",
    "    \"\"\"\n",
    "    A=P*(1+R/100)**N\n",
    "    I=A-P\n",
    "    print(f'Total amount to be return {A}')\n",
    "    print(f'Compound Interest {I}')\n",
    "    \n"
   ]
  },
  {
   "cell_type": "code",
   "execution_count": 41,
   "id": "d9edf52f",
   "metadata": {},
   "outputs": [
    {
     "name": "stdout",
     "output_type": "stream",
     "text": [
      "Total amount to be return 55126.935000000005\n",
      "Compound Interest 10126.935000000005\n",
      "Elapsed time is 0.0 seconds\n",
      "None\n"
     ]
    }
   ],
   "source": [
    "compound_interest(45000,3,7)"
   ]
  },
  {
   "cell_type": "code",
   "execution_count": null,
   "id": "27ba94d0",
   "metadata": {},
   "outputs": [],
   "source": []
  },
  {
   "cell_type": "code",
   "execution_count": null,
   "id": "aa9234eb",
   "metadata": {},
   "outputs": [],
   "source": []
  },
  {
   "cell_type": "code",
   "execution_count": null,
   "id": "10c15b8e",
   "metadata": {},
   "outputs": [],
   "source": []
  }
 ],
 "metadata": {
  "kernelspec": {
   "display_name": "venv",
   "language": "python",
   "name": "python3"
  },
  "language_info": {
   "codemirror_mode": {
    "name": "ipython",
    "version": 3
   },
   "file_extension": ".py",
   "mimetype": "text/x-python",
   "name": "python",
   "nbconvert_exporter": "python",
   "pygments_lexer": "ipython3",
   "version": "3.12.10"
  }
 },
 "nbformat": 4,
 "nbformat_minor": 5
}
