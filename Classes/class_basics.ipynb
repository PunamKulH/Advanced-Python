{
 "cells": [
  {
   "cell_type": "code",
   "execution_count": null,
   "id": "7b252fce",
   "metadata": {},
   "outputs": [],
   "source": [
    "class Student:\n",
    "    name = 'Karan'\n",
    "    \n"
   ]
  },
  {
   "cell_type": "code",
   "execution_count": 5,
   "id": "67e510c1",
   "metadata": {},
   "outputs": [
    {
     "name": "stdout",
     "output_type": "stream",
     "text": [
      "<__main__.Student object at 0x00000234E68F2EA0>\n"
     ]
    }
   ],
   "source": [
    "P1=Student()\n",
    "print(P1)"
   ]
  },
  {
   "cell_type": "code",
   "execution_count": 6,
   "id": "30e27664",
   "metadata": {},
   "outputs": [
    {
     "data": {
      "text/plain": [
       "'Karan'"
      ]
     },
     "execution_count": 6,
     "metadata": {},
     "output_type": "execute_result"
    }
   ],
   "source": [
    "P1.name"
   ]
  },
  {
   "cell_type": "code",
   "execution_count": 7,
   "id": "72e3b1f0",
   "metadata": {},
   "outputs": [],
   "source": [
    "class Student1:\n",
    "    def __init__(self):\n",
    "        print('I am Punam')"
   ]
  },
  {
   "cell_type": "code",
   "execution_count": 8,
   "id": "24a4bf04",
   "metadata": {},
   "outputs": [
    {
     "name": "stdout",
     "output_type": "stream",
     "text": [
      "I am Punam\n"
     ]
    }
   ],
   "source": [
    "s1=Student1()"
   ]
  },
  {
   "cell_type": "code",
   "execution_count": 11,
   "id": "a7fe2f5d",
   "metadata": {},
   "outputs": [],
   "source": [
    "class Person:\n",
    "    def __init__(self,Name,Age,Gender,Occupation):\n",
    "        self.Name = Name,\n",
    "        self.Age = Age,\n",
    "        self.Gender = Gender,\n",
    "        self.Occupation = Occupation"
   ]
  },
  {
   "cell_type": "code",
   "execution_count": 14,
   "id": "80270051",
   "metadata": {},
   "outputs": [],
   "source": [
    "p1=Person(Name='Punam',Gender='F',Age=37,Occupation='Business')"
   ]
  },
  {
   "cell_type": "code",
   "execution_count": 15,
   "id": "d1730b60",
   "metadata": {},
   "outputs": [
    {
     "data": {
      "text/plain": [
       "('Punam',)"
      ]
     },
     "execution_count": 15,
     "metadata": {},
     "output_type": "execute_result"
    }
   ],
   "source": [
    "p1.Name"
   ]
  },
  {
   "cell_type": "code",
   "execution_count": 16,
   "id": "99ce7a63",
   "metadata": {},
   "outputs": [
    {
     "data": {
      "text/plain": [
       "'Seeta'"
      ]
     },
     "execution_count": 16,
     "metadata": {},
     "output_type": "execute_result"
    }
   ],
   "source": [
    "p1.Name='Seeta'\n",
    "p1.Name"
   ]
  },
  {
   "cell_type": "code",
   "execution_count": 17,
   "id": "64b36d2b",
   "metadata": {},
   "outputs": [],
   "source": [
    "p1.Salary=50000\n"
   ]
  },
  {
   "cell_type": "code",
   "execution_count": 18,
   "id": "76e11fb9",
   "metadata": {},
   "outputs": [
    {
     "data": {
      "text/plain": [
       "50000"
      ]
     },
     "execution_count": 18,
     "metadata": {},
     "output_type": "execute_result"
    }
   ],
   "source": [
    "p1.Salary"
   ]
  },
  {
   "cell_type": "code",
   "execution_count": 19,
   "id": "7279702e",
   "metadata": {},
   "outputs": [],
   "source": [
    "p1.__delattr__('Salary')"
   ]
  },
  {
   "cell_type": "code",
   "execution_count": 20,
   "id": "de753ea9",
   "metadata": {},
   "outputs": [
    {
     "ename": "AttributeError",
     "evalue": "'Person' object has no attribute 'Salary'",
     "output_type": "error",
     "traceback": [
      "\u001b[31m---------------------------------------------------------------------------\u001b[39m",
      "\u001b[31mAttributeError\u001b[39m                            Traceback (most recent call last)",
      "\u001b[36mCell\u001b[39m\u001b[36m \u001b[39m\u001b[32mIn[20]\u001b[39m\u001b[32m, line 1\u001b[39m\n\u001b[32m----> \u001b[39m\u001b[32m1\u001b[39m \u001b[43mp1\u001b[49m\u001b[43m.\u001b[49m\u001b[43mSalary\u001b[49m\n",
      "\u001b[31mAttributeError\u001b[39m: 'Person' object has no attribute 'Salary'"
     ]
    }
   ],
   "source": [
    "p1.Salary"
   ]
  },
  {
   "cell_type": "code",
   "execution_count": 35,
   "id": "2283639a",
   "metadata": {},
   "outputs": [],
   "source": [
    "class Person1:\n",
    "    country = 'India'\n",
    "    def __init__(self,Name,Age,Gender,Occupation):\n",
    "        self.Name = Name\n",
    "        self.Age = Age\n",
    "        self.Gender = Gender\n",
    "        self.Occupation = Occupation\n",
    "    \n",
    "    def talk(self):\n",
    "         print(f'My Name is {self.Name}')\n",
    "         print(f'My age is {self.Age}')\n",
    "         print(f'My Gender is {self.Gender}')\n",
    "         print(f'My Occupation is {self.Occupation}')\n",
    "    "
   ]
  },
  {
   "cell_type": "code",
   "execution_count": 36,
   "id": "b689b2d6",
   "metadata": {},
   "outputs": [
    {
     "name": "stdout",
     "output_type": "stream",
     "text": [
      "Seeta\n"
     ]
    },
    {
     "data": {
      "text/plain": [
       "'India'"
      ]
     },
     "execution_count": 36,
     "metadata": {},
     "output_type": "execute_result"
    }
   ],
   "source": [
    "p1=Person1(Name='Seeta',Gender='F',Age=37,Occupation='Business')\n",
    "a=p1.Name\n",
    "print(a)\n",
    "p1.country"
   ]
  },
  {
   "cell_type": "code",
   "execution_count": 37,
   "id": "62464edf",
   "metadata": {},
   "outputs": [],
   "source": [
    "p2=Person1(Name='Seeta',Gender='F',Age=37,Occupation='Business')"
   ]
  },
  {
   "cell_type": "code",
   "execution_count": 38,
   "id": "af29bb03",
   "metadata": {},
   "outputs": [
    {
     "data": {
      "text/plain": [
       "'India'"
      ]
     },
     "execution_count": 38,
     "metadata": {},
     "output_type": "execute_result"
    }
   ],
   "source": [
    "p2.country"
   ]
  },
  {
   "cell_type": "code",
   "execution_count": 39,
   "id": "a04d20dd",
   "metadata": {},
   "outputs": [
    {
     "name": "stdout",
     "output_type": "stream",
     "text": [
      "My Name is Seeta\n",
      "My age is 37\n",
      "My Gender is F\n",
      "My Occupation is Business\n"
     ]
    }
   ],
   "source": [
    "p2.talk()"
   ]
  },
  {
   "cell_type": "code",
   "execution_count": 40,
   "id": "4bd7c549",
   "metadata": {},
   "outputs": [],
   "source": [
    "from dataclasses import dataclass\n",
    "from typing import Literal\n",
    "\n"
   ]
  },
  {
   "cell_type": "code",
   "execution_count": 45,
   "id": "0979cb4b",
   "metadata": {},
   "outputs": [],
   "source": [
    "@dataclass\n",
    "class Student:\n",
    "    Name : str\n",
    "    Gender : Literal['Male','Female']\n",
    "    Marks : int|float\n",
    "    Hobbies : list[str]\n",
    "\n",
    "    def get_info(self):\n",
    "        print(f'I am {self.Name}')\n",
    "        print(f'I got marks {self.Marks}')\n",
    "        print(f'I am {self.Gender}')\n",
    "        print(f'Hobbies are {self.Hobbies}')"
   ]
  },
  {
   "cell_type": "code",
   "execution_count": 46,
   "id": "bd56665b",
   "metadata": {},
   "outputs": [],
   "source": [
    "s1=Student"
   ]
  },
  {
   "cell_type": "code",
   "execution_count": 47,
   "id": "30c3c36b",
   "metadata": {},
   "outputs": [],
   "source": [
    "s1 = Student('Seema','Female',89,['Reading','Singing'])"
   ]
  },
  {
   "cell_type": "code",
   "execution_count": 48,
   "id": "a80aba5b",
   "metadata": {},
   "outputs": [
    {
     "data": {
      "text/plain": [
       "['Reading', 'Singing']"
      ]
     },
     "execution_count": 48,
     "metadata": {},
     "output_type": "execute_result"
    }
   ],
   "source": [
    "s1.Hobbies"
   ]
  },
  {
   "cell_type": "code",
   "execution_count": 49,
   "id": "9018670a",
   "metadata": {},
   "outputs": [
    {
     "ename": "TypeError",
     "evalue": "Student.__init__() takes 5 positional arguments but 6 were given",
     "output_type": "error",
     "traceback": [
      "\u001b[31m---------------------------------------------------------------------------\u001b[39m",
      "\u001b[31mTypeError\u001b[39m                                 Traceback (most recent call last)",
      "\u001b[36mCell\u001b[39m\u001b[36m \u001b[39m\u001b[32mIn[49]\u001b[39m\u001b[32m, line 1\u001b[39m\n\u001b[32m----> \u001b[39m\u001b[32m1\u001b[39m s1 = \u001b[43mStudent\u001b[49m\u001b[43m(\u001b[49m\u001b[33;43m'\u001b[39;49m\u001b[33;43mSeema\u001b[39;49m\u001b[33;43m'\u001b[39;49m\u001b[43m,\u001b[49m\u001b[33;43m'\u001b[39;49m\u001b[33;43mFemale\u001b[39;49m\u001b[33;43m'\u001b[39;49m\u001b[43m,\u001b[49m\u001b[32;43m89\u001b[39;49m\u001b[43m,\u001b[49m\u001b[33;43m'\u001b[39;49m\u001b[33;43mReading\u001b[39;49m\u001b[33;43m'\u001b[39;49m\u001b[43m,\u001b[49m\u001b[33;43m'\u001b[39;49m\u001b[33;43mSinging\u001b[39;49m\u001b[33;43m'\u001b[39;49m\u001b[43m)\u001b[49m\n",
      "\u001b[31mTypeError\u001b[39m: Student.__init__() takes 5 positional arguments but 6 were given"
     ]
    }
   ],
   "source": [
    "s1 = Student('Seema','Female',89,'Reading','Singing')"
   ]
  },
  {
   "cell_type": "code",
   "execution_count": 50,
   "id": "91736af6",
   "metadata": {},
   "outputs": [
    {
     "name": "stdout",
     "output_type": "stream",
     "text": [
      "I am Seema\n",
      "I got marks 89\n",
      "I am Female\n",
      "Hobbies are ['Reading', 'Singing']\n"
     ]
    }
   ],
   "source": [
    "s1.get_info()"
   ]
  },
  {
   "cell_type": "code",
   "execution_count": 68,
   "id": "0e2badf6",
   "metadata": {},
   "outputs": [],
   "source": [
    "@dataclass\n",
    "class Account:\n",
    "    Name :  str\n",
    "    Acc_no : int\n",
    "    Balance : float|int\n",
    "\n",
    "\n",
    "    def check_bal(self):\n",
    "        print(f'Current Account {self.Acc_no} balance is {self.Balance}')\n",
    "\n",
    "    def deposit(self, amt:int|float):\n",
    "        print(f'Amount of {amt} is added in {self.Acc_no}')\n",
    "        self.Balance = self.Balance + amt\n",
    "        self.check_bal()\n",
    "\n",
    "    def withdraw(self, amt:int|float):\n",
    "        if self.Balance < amt :\n",
    "            raise ValueError('Insufficient Balance')\n",
    "        else :\n",
    "            self.Balance = self.Balance - amt\n",
    "            print(f'Amount of {amt} is withdrawl from {self.Acc_no}')\n",
    "\n",
    "    def transfer(self, amt: int|float, ac = 'Account'):\n",
    "        self.withdraw(amt)\n",
    "        ac.deposit(amt)\n",
    "    \n"
   ]
  },
  {
   "cell_type": "code",
   "execution_count": 69,
   "id": "572a4d5b",
   "metadata": {},
   "outputs": [],
   "source": [
    "u1 = Account('Priya',1234001,2000)"
   ]
  },
  {
   "cell_type": "code",
   "execution_count": 70,
   "id": "c4f2845a",
   "metadata": {},
   "outputs": [
    {
     "data": {
      "text/plain": [
       "2000"
      ]
     },
     "execution_count": 70,
     "metadata": {},
     "output_type": "execute_result"
    }
   ],
   "source": [
    "u1.Balance\n"
   ]
  },
  {
   "cell_type": "code",
   "execution_count": 71,
   "id": "e9b80b51",
   "metadata": {},
   "outputs": [
    {
     "name": "stdout",
     "output_type": "stream",
     "text": [
      "Amount of 500 is added in 1234001\n",
      "Current Account 1234001 balance is 2500\n"
     ]
    }
   ],
   "source": [
    "u1.deposit(500)"
   ]
  },
  {
   "cell_type": "code",
   "execution_count": 72,
   "id": "2228de77",
   "metadata": {},
   "outputs": [
    {
     "data": {
      "text/plain": [
       "2500"
      ]
     },
     "execution_count": 72,
     "metadata": {},
     "output_type": "execute_result"
    }
   ],
   "source": [
    "u1.Balance"
   ]
  },
  {
   "cell_type": "code",
   "execution_count": 73,
   "id": "70765486",
   "metadata": {},
   "outputs": [
    {
     "name": "stdout",
     "output_type": "stream",
     "text": [
      "Current Account 1234001 balance is 2500\n"
     ]
    }
   ],
   "source": [
    "u1.check_bal()"
   ]
  },
  {
   "cell_type": "code",
   "execution_count": 74,
   "id": "9995cb03",
   "metadata": {},
   "outputs": [
    {
     "name": "stdout",
     "output_type": "stream",
     "text": [
      "Amount of 500 is withdrawl from 1234001\n"
     ]
    }
   ],
   "source": [
    "u1.withdraw(500)"
   ]
  },
  {
   "cell_type": "code",
   "execution_count": 75,
   "id": "44c35a38",
   "metadata": {},
   "outputs": [
    {
     "name": "stdout",
     "output_type": "stream",
     "text": [
      "Current Account 1234001 balance is 2000\n"
     ]
    }
   ],
   "source": [
    "u1.check_bal()"
   ]
  },
  {
   "cell_type": "code",
   "execution_count": 76,
   "id": "1d27cc4d",
   "metadata": {},
   "outputs": [
    {
     "name": "stdout",
     "output_type": "stream",
     "text": [
      "Amount of 100 is added in 1234001\n",
      "Current Account 1234001 balance is 2100\n"
     ]
    }
   ],
   "source": [
    "u1.deposit(100)"
   ]
  },
  {
   "cell_type": "code",
   "execution_count": 77,
   "id": "80f513cc",
   "metadata": {},
   "outputs": [],
   "source": [
    "u2 = Account('Teena',10002345,3000)"
   ]
  },
  {
   "cell_type": "code",
   "execution_count": 78,
   "id": "771893df",
   "metadata": {},
   "outputs": [
    {
     "name": "stdout",
     "output_type": "stream",
     "text": [
      "Current Account 10002345 balance is 3000\n"
     ]
    }
   ],
   "source": [
    "u2.check_bal()"
   ]
  },
  {
   "cell_type": "code",
   "execution_count": 79,
   "id": "846a6479",
   "metadata": {},
   "outputs": [
    {
     "name": "stdout",
     "output_type": "stream",
     "text": [
      "Amount of 1000 is withdrawl from 10002345\n",
      "Amount of 1000 is added in 1234001\n",
      "Current Account 1234001 balance is 3100\n"
     ]
    }
   ],
   "source": [
    "u2.transfer(1000,u1)"
   ]
  },
  {
   "cell_type": "code",
   "execution_count": null,
   "id": "a5959be0",
   "metadata": {},
   "outputs": [],
   "source": []
  },
  {
   "cell_type": "code",
   "execution_count": 64,
   "id": "1789357c",
   "metadata": {},
   "outputs": [
    {
     "name": "stdout",
     "output_type": "stream",
     "text": [
      "Current Account 1234 balance is 1500\n"
     ]
    }
   ],
   "source": [
    "u1.check_bal()"
   ]
  },
  {
   "cell_type": "code",
   "execution_count": 65,
   "id": "40f94de8",
   "metadata": {},
   "outputs": [
    {
     "name": "stdout",
     "output_type": "stream",
     "text": [
      "Amount of 500 is withdrawl from 10002345\n"
     ]
    },
    {
     "ename": "TypeError",
     "evalue": "'int' object is not callable",
     "output_type": "error",
     "traceback": [
      "\u001b[31m---------------------------------------------------------------------------\u001b[39m",
      "\u001b[31mTypeError\u001b[39m                                 Traceback (most recent call last)",
      "\u001b[36mCell\u001b[39m\u001b[36m \u001b[39m\u001b[32mIn[65]\u001b[39m\u001b[32m, line 1\u001b[39m\n\u001b[32m----> \u001b[39m\u001b[32m1\u001b[39m \u001b[43mu2\u001b[49m\u001b[43m.\u001b[49m\u001b[43mtransfer\u001b[49m\u001b[43m(\u001b[49m\u001b[32;43m500\u001b[39;49m\u001b[43m,\u001b[49m\u001b[43mu1\u001b[49m\u001b[43m)\u001b[49m\n",
      "\u001b[36mCell\u001b[39m\u001b[36m \u001b[39m\u001b[32mIn[51]\u001b[39m\u001b[32m, line 24\u001b[39m, in \u001b[36mAccount.transfer\u001b[39m\u001b[34m(self, amt, ac)\u001b[39m\n\u001b[32m     22\u001b[39m \u001b[38;5;28;01mdef\u001b[39;00m\u001b[38;5;250m \u001b[39m\u001b[34mtransfer\u001b[39m(\u001b[38;5;28mself\u001b[39m, amt: \u001b[38;5;28mint\u001b[39m|\u001b[38;5;28mfloat\u001b[39m, ac = \u001b[33m'\u001b[39m\u001b[33mAccount\u001b[39m\u001b[33m'\u001b[39m):\n\u001b[32m     23\u001b[39m     \u001b[38;5;28mself\u001b[39m.withdraw(amt)\n\u001b[32m---> \u001b[39m\u001b[32m24\u001b[39m     \u001b[43mac\u001b[49m\u001b[43m.\u001b[49m\u001b[43mdeposit\u001b[49m\u001b[43m(\u001b[49m\u001b[43mamt\u001b[49m\u001b[43m)\u001b[49m\n",
      "\u001b[31mTypeError\u001b[39m: 'int' object is not callable"
     ]
    }
   ],
   "source": [
    "u2.transfer(500,u1)"
   ]
  },
  {
   "cell_type": "code",
   "execution_count": null,
   "id": "17129e70",
   "metadata": {},
   "outputs": [],
   "source": []
  }
 ],
 "metadata": {
  "kernelspec": {
   "display_name": "venv",
   "language": "python",
   "name": "python3"
  },
  "language_info": {
   "codemirror_mode": {
    "name": "ipython",
    "version": 3
   },
   "file_extension": ".py",
   "mimetype": "text/x-python",
   "name": "python",
   "nbconvert_exporter": "python",
   "pygments_lexer": "ipython3",
   "version": "3.12.10"
  }
 },
 "nbformat": 4,
 "nbformat_minor": 5
}
